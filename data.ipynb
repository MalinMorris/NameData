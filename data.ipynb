{
 "cells": [
  {
   "cell_type": "markdown",
   "id": "cf52a015",
   "metadata": {},
   "source": [
    "## Read in the Data"
   ]
  },
  {
   "cell_type": "code",
   "execution_count": 2,
   "id": "e4fcbc5d",
   "metadata": {},
   "outputs": [],
   "source": [
    "# Imports and colors and numbers that won't change\n",
    "import pandas as pd\n",
    "import matplotlib.pyplot as plt\n",
    "import random\n",
    "import numpy as np\n",
    "import seaborn as sns\n",
    "import scipy.stats as stats\n",
    "#First year of data will not change, last year is not inclusive\n",
    "min_data_year = 1880\n",
    "max_data_year = 2025\n",
    "female_color = 'xkcd:pink'\n",
    "male_color = 'xkcd:light blue'\n",
    "default_color = 'xkcd:periwinkle'\n",
    "default_color2 = 'xkcd:grass green'\n",
    "colors = ['xkcd:red','xkcd:orange','xkcd:mustard','xkcd:grass green', 'xkcd:light blue','xkcd:cerulean','xkcd:indigo', \n",
    "          'xkcd:lavender', 'xkcd:pink', 'xkcd:black', 'xkcd:tan', 'xkcd:grey blue']\n",
    "generation_starts = {'Missionary' : 1880, 'Lost' : 1883, 'Greatest' : 1901, 'Silent' : 1928, 'Boomers' : 1946, 'Gen X' : 1965, 'Milennial' : 1981,\n",
    "                     'Gen X' : 1997, 'Gen Alpha' : 2010}"
   ]
  },
  {
   "cell_type": "code",
   "execution_count": 17,
   "id": "65876bd5",
   "metadata": {},
   "outputs": [],
   "source": [
    "# data = pd.DataFrame(columns = ['name', 'sex', 'total_count'] + [str(year) for year in range(1880, 2025)])\n",
    "# for i in range(min_data_year, max_data_year):\n",
    "#     current_df = pd.read_csv(\"names/yob\"+str(i)+\".txt\", delimiter = \",\", names = ['Name', 'Sex', 'Count'])\n",
    "#     for index, row in current_df.iterrows():\n",
    "#         current_name = row['Name']\n",
    "#         current_sex = row['Sex']\n",
    "#         current_count = row['Count']\n",
    "#         current_year = str(i)\n",
    "#         matches = (data['name'] == current_name) & (data['sex'] == current_sex)\n",
    "#         if matches.any():\n",
    "#             data.loc[matches, current_year] = current_count\n",
    "#             data.loc[matches, 'total_count'] += current_count\n",
    "#         else:\n",
    "#             new_row = {col: 0 for col in data.columns}\n",
    "#             new_row = {col: 0 for col in data.columns}\n",
    "#             new_row['name'] = current_name\n",
    "#             new_row['sex'] = current_sex\n",
    "#             new_row[current_year] = current_count\n",
    "#             new_row['total_count'] = current_count\n",
    "#             data = pd.concat([data, pd.DataFrame([new_row])], ignore_index=True)\n",
    "\n",
    "# data\n",
    "# data.to_csv(\"SSANameData.txt\")"
   ]
  },
  {
   "cell_type": "code",
   "execution_count": 16,
   "id": "6ec7312f",
   "metadata": {},
   "outputs": [],
   "source": [
    "data = pd.read_csv(\"SSANameData.txt\")"
   ]
  },
  {
   "cell_type": "markdown",
   "id": "2c0ce678",
   "metadata": {},
   "source": [
    "## Methods"
   ]
  },
  {
   "cell_type": "code",
   "execution_count": 18,
   "id": "963227d3",
   "metadata": {},
   "outputs": [],
   "source": [
    "def get_name_input(input_type):\n",
    "    name = input(f\"Enter the {input_type}: \").lower()\n",
    "    sex = input(\"Enter M for Male and F for Female: \").lower()\n",
    "    return name, sex"
   ]
  },
  {
   "cell_type": "code",
   "execution_count": 19,
   "id": "1749a30f",
   "metadata": {},
   "outputs": [],
   "source": [
    "def get_year_input():\n",
    "    enter_years = input(\"Enter y to set min/max years and q to quit: \").lower()\n",
    "    min_y = 0\n",
    "    max_y = 0\n",
    "    if enter_years == \"y\":\n",
    "        while min_y < min_data_year or max_y > max_data_year:\n",
    "            print(f\"the data ranges from {min_data_year} to {max_data_year - 1}\")\n",
    "            min_y = int(input(\"Enter the minimum year: \"))\n",
    "            max_y = int(input(\"Enter the maximum year: \"))\n",
    "        max_y += 1\n",
    "    else:\n",
    "        min_y = min_data_year\n",
    "        max_y = max_data_year\n",
    "    return min_y, max_y"
   ]
  },
  {
   "cell_type": "code",
   "execution_count": 21,
   "id": "b317d0db",
   "metadata": {},
   "outputs": [],
   "source": [
    "def get_single_year_input(min_y = min_data_year, max_y = (max_data_year - 1), type = \"count\"):\n",
    "    year = 0\n",
    "    while year < min_y or year > max_y:\n",
    "        print(f\"the data ranges from {min_y} to {max_y}\")\n",
    "        try:\n",
    "            year = int(input(f\"Enter a specific year to see the {type}\"))\n",
    "        except ValueError:\n",
    "            print(\"please enter a number\")\n",
    "    return year"
   ]
  },
  {
   "cell_type": "code",
   "execution_count": 20,
   "id": "2929d603",
   "metadata": {},
   "outputs": [],
   "source": [
    "def get_multiple_inputs():\n",
    "    stop = False\n",
    "    name_list = []\n",
    "    sex_list = []\n",
    "    while stop == False:\n",
    "        name, sex = get_name_input(\"name\")\n",
    "        name_list.append(name)\n",
    "        sex_list.append(sex)\n",
    "        s = input(\"Enter q to exit and c to enter another name: \")\n",
    "        stop = (s == 'q')\n",
    "    min_y, max_y = get_year_input()\n",
    "    return name_list, sex_list, min_y, max_y"
   ]
  },
  {
   "cell_type": "code",
   "execution_count": null,
   "id": "e2a4e81b",
   "metadata": {},
   "outputs": [],
   "source": [
    "def get_first_nonzero(name_list, min_y = min_data_year):\n",
    "    index = np.nonzero(name_list)\n",
    "    return index[0][0] + min_y"
   ]
  },
  {
   "cell_type": "code",
   "execution_count": 23,
   "id": "e646a97b",
   "metadata": {},
   "outputs": [],
   "source": [
    "def get_last_nonzero(name_list, min_y = min_data_year):\n",
    "    index = np.nonzero(name_list)\n",
    "    return index[len(index)-1][0] + min_y"
   ]
  },
  {
   "cell_type": "code",
   "execution_count": 25,
   "id": "0371534e",
   "metadata": {},
   "outputs": [],
   "source": [
    "def name_counts_years(name, sex, year, min_y = min_data_year, max_y = max_data_year, function = np.equal):\n",
    "    current_data = data[data['name'].function(name)]\n",
    "    length = len(current_data)\n",
    "    current_data = current_data[current_data['sex'] == sex]\n",
    "    length = len(current_data)\n",
    "    current_data.loc['total'] = current_data.sum(numeric_only=True)\n",
    "    current_data.loc['num_names'] = (current_data.iloc[0:length] != 0).sum(axis=0)\n",
    "\n",
    "    name_counts = current_data.loc['total', current_data.columns.index(str(min_y)):current_data.columns.index(str(max_y))].tolist\n",
    "    num_names = current_data.loc['num_names',  current_data.columns.index(str(min_y)):current_data.columns.index(str(max_y))].tolist\n",
    "    return name_counts, num_names\n"
   ]
  }
 ],
 "metadata": {
  "kernelspec": {
   "display_name": "base",
   "language": "python",
   "name": "python3"
  },
  "language_info": {
   "codemirror_mode": {
    "name": "ipython",
    "version": 3
   },
   "file_extension": ".py",
   "mimetype": "text/x-python",
   "name": "python",
   "nbconvert_exporter": "python",
   "pygments_lexer": "ipython3",
   "version": "3.12.4"
  }
 },
 "nbformat": 4,
 "nbformat_minor": 5
}
