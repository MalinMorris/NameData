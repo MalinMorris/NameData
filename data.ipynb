{
 "cells": [
  {
   "cell_type": "markdown",
   "id": "cf52a015",
   "metadata": {},
   "source": [
    "## Read in the Data"
   ]
  },
  {
   "cell_type": "code",
   "execution_count": 1,
   "id": "e4fcbc5d",
   "metadata": {},
   "outputs": [],
   "source": [
    "# Imports and colors and numbers that won't change\n",
    "import pandas as pd\n",
    "import matplotlib.pyplot as plt\n",
    "import random\n",
    "import numpy as np\n",
    "import seaborn as sns\n",
    "import scipy.stats as stats\n",
    "#First year of data will not change, last year is not inclusive\n",
    "min_data_year = 1880\n",
    "max_data_year = 2025\n",
    "female_color = 'xkcd:pink'\n",
    "male_color = 'xkcd:light blue'\n",
    "default_color = 'xkcd:periwinkle'\n",
    "default_color2 = 'xkcd:grass green'\n",
    "colors = ['xkcd:red','xkcd:orange','xkcd:mustard','xkcd:grass green', 'xkcd:light blue','xkcd:cerulean','xkcd:indigo', \n",
    "          'xkcd:lavender', 'xkcd:pink', 'xkcd:black', 'xkcd:tan', 'xkcd:grey blue']\n",
    "generation_starts = {'Missionary' : 1880, 'Lost' : 1883, 'Greatest' : 1901, 'Silent' : 1928, 'Boomers' : 1946, 'Gen X' : 1965, 'Milennial' : 1981,\n",
    "                     'Gen X' : 1997, 'Gen Alpha' : 2010}"
   ]
  },
  {
   "cell_type": "code",
   "execution_count": 2,
   "id": "65876bd5",
   "metadata": {},
   "outputs": [],
   "source": [
    "# data = pd.DataFrame(columns = ['name', 'sex', 'total_count'] + [str(year) for year in range(1880, 2025)])\n",
    "# for i in range(min_data_year, max_data_year):\n",
    "#     current_df = pd.read_csv(\"names/yob\"+str(i)+\".txt\", delimiter = \",\", names = ['Name', 'Sex', 'Count'])\n",
    "#     for index, row in current_df.iterrows():\n",
    "#         current_name = row['Name']\n",
    "#         current_sex = row['Sex']\n",
    "#         current_count = row['Count']\n",
    "#         current_year = str(i)\n",
    "#         matches = (data['name'] == current_name) & (data['sex'] == current_sex)\n",
    "#         if matches.any():\n",
    "#             data.loc[matches, current_year] = current_count\n",
    "#             data.loc[matches, 'total_count'] += current_count\n",
    "#         else:\n",
    "#             new_row = {col: 0 for col in data.columns}\n",
    "#             new_row = {col: 0 for col in data.columns}\n",
    "#             new_row['name'] = current_name\n",
    "#             new_row['sex'] = current_sex\n",
    "#             new_row[current_year] = current_count\n",
    "#             new_row['total_count'] = current_count\n",
    "#             data = pd.concat([data, pd.DataFrame([new_row])], ignore_index=True)\n",
    "\n",
    "# data\n",
    "# data.to_csv(\"SSANameData.txt\")"
   ]
  },
  {
   "cell_type": "code",
   "execution_count": 3,
   "id": "6ec7312f",
   "metadata": {},
   "outputs": [],
   "source": [
    "data = pd.read_csv(\"SSANameData.txt\")"
   ]
  },
  {
   "cell_type": "markdown",
   "id": "2c0ce678",
   "metadata": {},
   "source": [
    "## Methods"
   ]
  },
  {
   "cell_type": "code",
   "execution_count": 4,
   "id": "963227d3",
   "metadata": {},
   "outputs": [],
   "source": [
    "def name_input(input_type):\n",
    "    name = input(f\"Enter the {input_type}: \").lower()\n",
    "    sex = \"\"\n",
    "    while sex != 'f' and sex != 'm':\n",
    "        sex = input(\"Enter M for Male and F for Female: \").lower()\n",
    "    return name, sex"
   ]
  },
  {
   "cell_type": "code",
   "execution_count": 5,
   "id": "1749a30f",
   "metadata": {},
   "outputs": [],
   "source": [
    "def year_input():\n",
    "    enter_years = input(\"Enter y to set min/max years and q to quit: \").lower()\n",
    "    min_y = 0\n",
    "    max_y = 0\n",
    "    if enter_years == \"y\":\n",
    "        while min_y < min_data_year or max_y > max_data_year:\n",
    "            print(f\"the data ranges from {min_data_year} to {max_data_year - 1}\")\n",
    "            min_y = int(input(\"Enter the minimum year: \"))\n",
    "            max_y = int(input(\"Enter the maximum year: \"))\n",
    "        max_y += 1\n",
    "    else:\n",
    "        min_y = min_data_year\n",
    "        max_y = max_data_year\n",
    "    return min_y, max_y"
   ]
  },
  {
   "cell_type": "code",
   "execution_count": 6,
   "id": "b317d0db",
   "metadata": {},
   "outputs": [],
   "source": [
    "def single_year_input(min_y = min_data_year, max_y = (max_data_year - 1), type = \"count\"):\n",
    "    year = 0\n",
    "    while year < min_y or year > max_y:\n",
    "        print(f\"the data ranges from {min_y} to {max_y}\")\n",
    "        try:\n",
    "            year = int(input(f\"Enter a specific year to see the {type}\"))\n",
    "        except ValueError:\n",
    "            print(\"please enter a number\")\n",
    "    return year"
   ]
  },
  {
   "cell_type": "code",
   "execution_count": 7,
   "id": "2929d603",
   "metadata": {},
   "outputs": [],
   "source": [
    "def multiple_inputs():\n",
    "    stop = False\n",
    "    name_list = []\n",
    "    sex_list = []\n",
    "    while stop == False:\n",
    "        name, sex = name_input(\"name\")\n",
    "        name_list.append(name)\n",
    "        sex_list.append(sex)\n",
    "        s = input(\"Enter q to exit and c to enter another name: \")\n",
    "        stop = (s == 'q')\n",
    "    min_y, max_y = year_input()\n",
    "    return name_list, sex_list, min_y, max_y"
   ]
  },
  {
   "cell_type": "code",
   "execution_count": 8,
   "id": "e2a4e81b",
   "metadata": {},
   "outputs": [],
   "source": [
    "def first_nonzero(name_list, min_y = min_data_year):\n",
    "    name_list = np.array(name_list)\n",
    "    i = np.nonzero(name_list)\n",
    "    return i[0][0] + min_y"
   ]
  },
  {
   "cell_type": "code",
   "execution_count": 9,
   "id": "e646a97b",
   "metadata": {},
   "outputs": [],
   "source": [
    "def last_nonzero(name_list, min_y = min_data_year):\n",
    "    name_list = np.array(name_list)\n",
    "    i = np.nonzero(name_list)\n",
    "    return i[len(i)-1][0] + min_y"
   ]
  },
  {
   "cell_type": "code",
   "execution_count": 47,
   "id": "c1f8e383",
   "metadata": {},
   "outputs": [],
   "source": [
    "def peak_year(name_list, min_y = min_data_year):\n",
    "    max_value = max(name_list)\n",
    "    max_index = name_list.index(max_value) + min_y\n",
    "    return max_index, int(max_value)"
   ]
  },
  {
   "cell_type": "code",
   "execution_count": 48,
   "id": "d905d5ef",
   "metadata": {},
   "outputs": [],
   "source": [
    "def calculate_percent_change(name_counts):\n",
    "    initial = name_counts[0]\n",
    "    initial = initial if initial > 0 else 1\n",
    "    final = name_counts[-1]\n",
    "    final = final if final > 0 else 1\n",
    "    return (final - initial) / initial * 100, int(initial), int(final)"
   ]
  },
  {
   "cell_type": "code",
   "execution_count": 12,
   "id": "13efaa45",
   "metadata": {},
   "outputs": [
    {
     "ename": "SyntaxError",
     "evalue": "incomplete input (433133598.py, line 3)",
     "output_type": "error",
     "traceback": [
      "\u001b[1;36m  Cell \u001b[1;32mIn[12], line 3\u001b[1;36m\u001b[0m\n\u001b[1;33m    # get ranks\u001b[0m\n\u001b[1;37m               ^\u001b[0m\n\u001b[1;31mSyntaxError\u001b[0m\u001b[1;31m:\u001b[0m incomplete input\n"
     ]
    }
   ],
   "source": [
    "def get_rank(year_list, year, name):\n",
    "    ## TODO \n",
    "    # get ranks"
   ]
  },
  {
   "cell_type": "code",
   "execution_count": 45,
   "id": "0371534e",
   "metadata": {},
   "outputs": [],
   "source": [
    "def name_counts_years(name, sex, year, min_y = min_data_year, max_y = max_data_year, function = np.equal):\n",
    "    current_data = data[function(name, data['name'])]\n",
    "    length = len(current_data)\n",
    "    current_data = current_data[current_data['sex'] == sex]\n",
    "    length = len(current_data)\n",
    "    current_data.loc['total'] = current_data.sum(numeric_only=True)\n",
    "    current_data.loc['num_names'] = (current_data.iloc[0:length] != 0).sum(axis=0)\n",
    "\n",
    "    year_columns = [str(y) for y in range(min_y, max_y)]\n",
    "    name_counts = current_data.loc['total', year_columns].tolist()\n",
    "    # name_counts = current_data[year_columns]\n",
    "    num_names = current_data.loc['num_names',  (str(min_y)):(str(max_y - 1))].tolist()\n",
    "    # num_names = (current_data[year_columns] != 0).sum()\n",
    "    return name_counts, num_names\n"
   ]
  },
  {
   "cell_type": "code",
   "execution_count": 15,
   "id": "4a91ed3d",
   "metadata": {},
   "outputs": [],
   "source": [
    "def make_graph(title, x, y, year, label, color = default_color, show = True, x_label = 'year', y_label = 'count'):\n",
    "    plt.plot(x, y, color = color, label = label)\n",
    "    if show == True:\n",
    "        plt.axvline(x = year, label = year, color = 'xkcd:grey', linestyle = '--')\n",
    "    plt.xlabel(y_label)\n",
    "    plt.ylabel(x_label)\n",
    "    plt.legend()\n",
    "    plt.title(title)\n",
    "    plt.grid(True)\n",
    "    plt.show()"
   ]
  },
  {
   "cell_type": "markdown",
   "id": "28f8988d",
   "metadata": {},
   "source": [
    "## Graphs"
   ]
  },
  {
   "cell_type": "markdown",
   "id": "8b373a51",
   "metadata": {},
   "source": [
    "### Single Name Graph"
   ]
  },
  {
   "cell_type": "code",
   "execution_count": 51,
   "id": "4284a3e7",
   "metadata": {},
   "outputs": [
    {
     "name": "stdout",
     "output_type": "stream",
     "text": [
      "the data ranges from 1880 to 2025\n"
     ]
    },
    {
     "data": {
      "image/png": "[encoded data removed]",
      "text/plain": [
       "<Figure size 640x480 with 1 Axes>"
      ]
     },
     "metadata": {},
     "output_type": "display_data"
    },
    {
     "name": "stdout",
     "output_type": "stream",
     "text": [
      "The first year with more than five of this start was 1974\n",
      "The last year with more than five of this start was 1974\n",
      "The name peaked in 2012 with 66\n",
      "There have been a total of 824 babies named malin\n",
      "The name increased from 1 to 12, a 1100.00% increase over 1880 to 2024\n"
     ]
    }
   ],
   "source": [
    "name, sex = name_input(\"name\")\n",
    "min_y, max_y = year_input()\n",
    "year = single_year_input(min_y, max_y)\n",
    "show = True\n",
    "name_counts, ignore = name_counts_years(name, sex, year, min_y, max_y)\n",
    "earliest_year = first_nonzero(name_counts, min_y)\n",
    "latest_year = last_nonzero(name_counts, min_y)\n",
    "\n",
    "total_sum = int(sum(name_counts))\n",
    "percent_change, initial, final = calculate_percent_change(name_counts)\n",
    "change_verb = \"increase\" if percent_change > 0 else \"decrease\"\n",
    "percent_change = abs(percent_change)\n",
    "color = female_color if sex == 'f' else male_color\n",
    "peak_count_year, peak_count = peak_year(name_counts, min_y)\n",
    "title = f\"Number of {sex} named {name} by year\"\n",
    "label = f\"{name}, {sex}\"\n",
    "make_graph(title, range(min_y, max_y), name_counts, year, label, color, True)\n",
    "\n",
    "print(f\"The first year with more than five of this start was {earliest_year}\")\n",
    "print(f\"The last year with more than five of this start was {latest_year}\")\n",
    "print(f\"The name peaked in {peak_count_year} with {peak_count}\")\n",
    "# print(f\"In {year} there were {year_sum} {sex} babies given the name {name_sum} and its rank was {rank}\")\n",
    "print(f\"There have been a total of {total_sum} babies named {name}\")\n",
    "print(f\"The name {change_verb}d from {initial} to {final}, a {percent_change:.2f}% {change_verb} over {min_y} to {max_y - 1}\")"
   ]
  }
 ],
 "metadata": {
  "kernelspec": {
   "display_name": "base",
   "language": "python",
   "name": "python3"
  },
  "language_info": {
   "codemirror_mode": {
    "name": "ipython",
    "version": 3
   },
   "file_extension": ".py",
   "mimetype": "text/x-python",
   "name": "python",
   "nbconvert_exporter": "python",
   "pygments_lexer": "ipython3",
   "version": "3.12.4"
  }
 },
 "nbformat": 4,
 "nbformat_minor": 5
}
